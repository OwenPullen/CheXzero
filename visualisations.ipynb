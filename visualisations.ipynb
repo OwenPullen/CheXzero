{
 "cells": [
  {
   "cell_type": "code",
   "execution_count": null,
   "metadata": {},
   "outputs": [],
   "source": [
    "import torch\n",
    "import numpy as np\n",
    "import pandas as pd\n",
    "import tta_fns\n",
    "import zero_shot\n",
    "import reliability_diagrams as rd\n",
    "from typing import Optional, List\n",
    "from pathlib import Path\n",
    "import matplotlib.pyplot as plt\n",
    "%matplotlib inline\n",
    "\n",
    "cxr_true_labels_path: Optional[str] = 'data/groundtruth.csv' # (optional for evaluation) if labels are provided, provide path\n",
    "model_dir: str = 'checkpoints/chexzero_weights' # where pretrained models are saved (.pt) \n",
    "predictions_dir: Path = Path('predictions') # where to save predictions\n",
    "cache_dir: str = predictions_dir / \"cached\" # where to cache ensembled predictions\n",
    "\n",
    "context_length: int = 77\n",
    "\n",
    "# ------- LABELS ------  #\n",
    "# Define labels to query each image | will return a prediction for each label\n",
    "cxr_labels: List[str] = [\n",
    "    'Atelectasis','Cardiomegaly', 'Consolidation', 'Edema', 'Enlarged Cardiomediastinum', \n",
    "    'Fracture', 'Lung Lesion', 'Lung Opacity', 'No Finding','Pleural Effusion', 'Pleural Other',\n",
    "    'Pneumonia', 'Pneumothorax', 'Support Devices'\n",
    "    ]"
   ]
  },
  {
   "cell_type": "code",
   "execution_count": null,
   "metadata": {},
   "outputs": [],
   "source": [
    "test_pred = np.load('predictions/cached/no_tta/best_128_5e-05_original_22000_0.855.npy')"
   ]
  },
  {
   "cell_type": "code",
   "execution_count": null,
   "metadata": {},
   "outputs": [],
   "source": [
    "test_pred.shape"
   ]
  },
  {
   "cell_type": "code",
   "execution_count": null,
   "metadata": {},
   "outputs": [],
   "source": [
    "\n",
    "test_true = zero_shot.make_true_labels(cxr_true_labels_path=cxr_true_labels_path, cxr_labels=cxr_labels)"
   ]
  },
  {
   "cell_type": "code",
   "execution_count": null,
   "metadata": {},
   "outputs": [],
   "source": [
    "threshold = 0.5\n",
    "pred_lab = (test_pred > threshold).astype(int)\n",
    "confidence = np.copy(test_pred)\n",
    "confidence[pred_lab == 0] = 1 - confidence[pred_lab == 0]"
   ]
  },
  {
   "cell_type": "code",
   "execution_count": null,
   "metadata": {},
   "outputs": [],
   "source": [
    "confidence"
   ]
  },
  {
   "cell_type": "code",
   "execution_count": null,
   "metadata": {},
   "outputs": [],
   "source": [
    "test_pred\n"
   ]
  },
  {
   "cell_type": "code",
   "execution_count": null,
   "metadata": {},
   "outputs": [],
   "source": [
    "pred_lab"
   ]
  },
  {
   "cell_type": "code",
   "execution_count": null,
   "metadata": {},
   "outputs": [],
   "source": [
    "y_true = test_true[:,0]\n",
    "y_pred = pred_lab[:,0]\n",
    "y_conf = test_pred[:,0]"
   ]
  },
  {
   "cell_type": "code",
   "execution_count": null,
   "metadata": {},
   "outputs": [],
   "source": [
    "def set_style():\n",
    "    plt.style.use(\"seaborn\")\n",
    "    plt.rc(\"font\", size=12)\n",
    "    plt.rc(\"axes\", labelsize=12)\n",
    "    plt.rc(\"xtick\", labelsize=12)\n",
    "    plt.rc(\"ytick\", labelsize=12)\n",
    "    plt.rc(\"legend\", fontsize=12)"
   ]
  },
  {
   "cell_type": "code",
   "execution_count": null,
   "metadata": {},
   "outputs": [],
   "source": [
    "# for i in range(14):\n",
    "#     y_true = test_true[:,i]\n",
    "#     y_pred = pred_lab[:,i]\n",
    "#     y_conf = test_pred[:,i]\n",
    "#     set_style()\n",
    "#     fig = rd.reliability_diagram(y_true, y_pred, y_conf, title=cxr_labels[i])\n",
    "    "
   ]
  },
  {
   "cell_type": "code",
   "execution_count": null,
   "metadata": {},
   "outputs": [],
   "source": [
    "\n",
    "plt.style.use(\"seaborn\")\n",
    "plt.rc(\"font\", size=12)\n",
    "plt.rc(\"axes\", labelsize=12)\n",
    "plt.rc(\"xtick\", labelsize=12)\n",
    "plt.rc(\"ytick\", labelsize=12)\n",
    "plt.rc(\"legend\", fontsize=12)\n",
    "\n",
    "title = 'plot'"
   ]
  },
  {
   "cell_type": "code",
   "execution_count": null,
   "metadata": {},
   "outputs": [],
   "source": [
    "fig = rd.reliability_diagram(y_true, y_pred, y_conf)"
   ]
  },
  {
   "cell_type": "code",
   "execution_count": null,
   "metadata": {},
   "outputs": [],
   "source": [
    "print(f\"r\")"
   ]
  },
  {
   "cell_type": "code",
   "execution_count": null,
   "metadata": {},
   "outputs": [],
   "source": [
    "dict = {}\n",
    "for i in range(14):\n",
    "    dict_i = {\n",
    "    \"true_labels\" : test_true[:,i],\n",
    "    \"pred_labels\" : pred_lab[:,i],\n",
    "    \"confidences\" : test_pred[:,i]\n",
    "    }\n",
    "    dict.update({cxr_labels[i]: dict_i})\n",
    "print(dict)"
   ]
  },
  {
   "cell_type": "code",
   "execution_count": null,
   "metadata": {},
   "outputs": [],
   "source": [
    "\n",
    "# threshold = 0.5\n",
    "# pred_lab = (test_pred > threshold).astype(int)\n",
    "# confidence = np.copy(test_pred)\n",
    "# confidence[pred_lab == 0] = 1 - confidence[pred_lab == 0]\n",
    "# y_true = test_true[:,0]\n",
    "# y_pred = pred_lab[:,0]\n",
    "# y_conf = test_pred[:,0]\n",
    "\n",
    "# dict = {\n",
    "#     \"true_labels\" : y_true,\n",
    "#     \"pred_labels\" : y_pred,\n",
    "#     \"confidences\" : y_conf\n",
    "# }\n",
    "\n",
    "# dict2 = {\"chexzero\": dict}\n",
    "\n",
    "rd.reliability_diagrams(dict, num_cols = 7, num_rows = 2, draw_bin_importance=True)"
   ]
  },
  {
   "cell_type": "code",
   "execution_count": null,
   "metadata": {},
   "outputs": [],
   "source": []
  }
 ],
 "metadata": {
  "kernelspec": {
   "display_name": "chexzero",
   "language": "python",
   "name": "python3"
  },
  "language_info": {
   "codemirror_mode": {
    "name": "ipython",
    "version": 3
   },
   "file_extension": ".py",
   "mimetype": "text/x-python",
   "name": "python",
   "nbconvert_exporter": "python",
   "pygments_lexer": "ipython3",
   "version": "3.8.19"
  }
 },
 "nbformat": 4,
 "nbformat_minor": 2
}
